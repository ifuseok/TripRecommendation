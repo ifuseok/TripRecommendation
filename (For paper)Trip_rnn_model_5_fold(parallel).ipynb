{
 "cells": [
  {
   "cell_type": "code",
   "execution_count": 1,
   "metadata": {},
   "outputs": [],
   "source": [
    "import numpy as np\n",
    "import pandas as pd\n",
    "import tensorflow as tf\n",
    "import os\n",
    "import sys\n",
    "from weight_train_trip2 import *\n",
    "from weight_train_trip_ev import *\n",
    "from sklearn.preprocessing import LabelEncoder"
   ]
  },
  {
   "cell_type": "code",
   "execution_count": 2,
   "metadata": {},
   "outputs": [],
   "source": [
    "data_spot = pd.read_excel('data_spot_5_fold.xlsx')"
   ]
  },
  {
   "cell_type": "code",
   "execution_count": 3,
   "metadata": {},
   "outputs": [],
   "source": [
    "new_id = pd.DataFrame(columns=[\"Spot\",\"new_id\"])\n",
    "new_id[\"Spot\"] = data_spot.Spot.unique()\n",
    "new_id[\"new_id\"] = range(data_spot.Spot.nunique())"
   ]
  },
  {
   "cell_type": "code",
   "execution_count": 4,
   "metadata": {},
   "outputs": [],
   "source": [
    "spot = pd.read_excel('../최종DB관리/Spot_VSS/2019.02.13.최종_통합DB2.xlsx')"
   ]
  },
  {
   "cell_type": "code",
   "execution_count": 5,
   "metadata": {},
   "outputs": [],
   "source": [
    "new_id_spot = new_id.merge(spot,on=\"Spot\",how=\"left\")"
   ]
  },
  {
   "cell_type": "code",
   "execution_count": 6,
   "metadata": {},
   "outputs": [],
   "source": [
    "g = tf.Graph()"
   ]
  },
  {
   "cell_type": "code",
   "execution_count": 7,
   "metadata": {},
   "outputs": [],
   "source": [
    "class args():\n",
    "    is_training = True\n",
    "    retraining = True\n",
    "    layers = 1\n",
    "    rnn_size = [300,4000] # , 20, 5 ,50\n",
    "    n_epochs = 10\n",
    "    batch_size = 50\n",
    "    dropout_p_hidden= 1.0\n",
    "    learning_rate = 0.0005\n",
    "    decay = 0.96\n",
    "    decay_steps = 5e3\n",
    "    init_as_normal = False\n",
    "    reset_after_session = True\n",
    "    session_key = 'Session_id'\n",
    "    attribute_key =['City_encoder','new_id'] #   ,'Tag_encoder'   ,\"city_sub_encoder\",\n",
    "    item_key = 'Spot'\n",
    "    time_key = 'Session_num'\n",
    "    grad_cap = 0\n",
    "    attribute = [new_id_spot.City_encoder.nunique(),len(new_id_spot) ]# ,spot.Tag_encoder.nunique()  ,spot.city_sub_encoder.nunique(),\n",
    "    model_name = [\"id\",\"City\"]\n",
    "    max_ckpt_keep = 100\n",
    "    test_model_train = [8,13] # [13,13,12,12,11]\n",
    "    test_model = 0\n",
    "    sigma=0\n",
    "    checkpoint_dir_train = ['City_encoder_0','new_id_0'] \n",
    "    checkpoint_dir = \"weight_train2_0\"\n",
    "    graph = g\n",
    "    loss = 'top1'\n",
    "    final_act = 'linear'\n",
    "    hidden_act = 'tanh'\n",
    "    item_table = new_id_spot"
   ]
  },
  {
   "cell_type": "code",
   "execution_count": 8,
   "metadata": {},
   "outputs": [],
   "source": [
    "tf.reset_default_graph()"
   ]
  },
  {
   "cell_type": "code",
   "execution_count": 9,
   "metadata": {
    "scrolled": false
   },
   "outputs": [
    {
     "name": "stdout",
     "output_type": "stream",
     "text": [
      "INFO:tensorflow:Restoring parameters from City_encoder_0/attribute_model_City_encoder-8\n",
      "완료\n",
      "이거는?\n",
      "INFO:tensorflow:Restoring parameters from new_id_0/attribute_model-13\n",
      "완료\n"
     ]
    }
   ],
   "source": [
    "config = tf.ConfigProto()\n",
    "config.gpu_options.allow_growth=True\n",
    "sess = tf.Session(graph=g,config=config)\n",
    "arg = args()\n",
    "models = GRU4Rec(sess,arg)"
   ]
  },
  {
   "cell_type": "code",
   "execution_count": 10,
   "metadata": {},
   "outputs": [],
   "source": [
    "train = data_spot[data_spot[\"k\"]!=0]\n",
    "test = data_spot[data_spot[\"k\"]==0]"
   ]
  },
  {
   "cell_type": "code",
   "execution_count": 11,
   "metadata": {
    "scrolled": true
   },
   "outputs": [
    {
     "name": "stdout",
     "output_type": "stream",
     "text": [
      "fitting model....\n",
      "[    0     8    32 ... 22839 22846 22850]\n",
      "Epoch 0\tStep 1\tlr: 0.000500\tloss: 1.283171 weight:[0.5 0.5]\n",
      "Epoch 0 \t loss: 1.282229 : \n",
      "[    0     8    32 ... 22839 22846 22850]\n",
      "Epoch 1 \t loss: 1.282771 : \n",
      "[    0     8    32 ... 22839 22846 22850]\n",
      "Epoch 2 \t loss: 1.281681 : \n",
      "[    0     8    32 ... 22839 22846 22850]\n",
      "Epoch 3 \t loss: 1.281004 : \n",
      "[    0     8    32 ... 22839 22846 22850]\n",
      "Epoch 4 \t loss: 1.279377 : \n",
      "[    0     8    32 ... 22839 22846 22850]\n",
      "Epoch 5 \t loss: 1.277705 : \n",
      "[    0     8    32 ... 22839 22846 22850]\n",
      "Epoch 6 \t loss: 1.276258 : \n",
      "[    0     8    32 ... 22839 22846 22850]\n",
      "Epoch 7 \t loss: 1.274227 : \n",
      "[    0     8    32 ... 22839 22846 22850]\n",
      "Epoch 8 \t loss: 1.273008 : \n",
      "[    0     8    32 ... 22839 22846 22850]\n",
      "Epoch 9 \t loss: 1.271221 : \n"
     ]
    }
   ],
   "source": [
    "models.fit(train)"
   ]
  },
  {
   "cell_type": "code",
   "execution_count": 12,
   "metadata": {},
   "outputs": [],
   "source": [
    " \n",
    "g1= tf.Graph()\n",
    "\n",
    "class args():\n",
    "    is_training = False\n",
    "    retraining = True\n",
    "    layers = 1\n",
    "    rnn_size = [300,4000] # , 20, 5 ,50\n",
    "    n_epochs = 10\n",
    "    batch_size = 50\n",
    "    dropout_p_hidden= 1.0\n",
    "    learning_rate = 0.00001\n",
    "    decay = 0.96\n",
    "    decay_steps = 5e3\n",
    "    init_as_normal = False\n",
    "    reset_after_session = True\n",
    "    session_key = 'Session_id'\n",
    "    attribute_key =['City_encoder','new_id'] #   ,'Tag_encoder'   ,\"city_sub_encoder\",\n",
    "    item_key = 'Spot'\n",
    "    time_key = 'Session_num'\n",
    "    grad_cap = 0\n",
    "    attribute = [new_id_spot.City_encoder.nunique(),len(new_id_spot) ]# ,spot.Tag_encoder.nunique()  ,spot.city_sub_encoder.nunique(),\n",
    "    model_name = [\"id\",\"City\"]\n",
    "    max_ckpt_keep = 100\n",
    "    test_model_train = [8,11] # [13,13,12,12,11]\n",
    "    test_model = 0\n",
    "    sigma=0\n",
    "    checkpoint_dir_train =  ['City_encoder_0','new_id_0'] \n",
    "    checkpoint_dir = \"weight_train2_0\"\n",
    "    graph = g1\n",
    "    loss = 'top1'\n",
    "    final_act = 'linear'\n",
    "    hidden_act = 'tanh'\n",
    "    item_table = new_id_spot"
   ]
  },
  {
   "cell_type": "code",
   "execution_count": 13,
   "metadata": {},
   "outputs": [
    {
     "name": "stdout",
     "output_type": "stream",
     "text": [
      "INFO:tensorflow:Restoring parameters from City_encoder_0/attribute_model_City_encoder-8\n",
      "완료\n",
      "이거는?\n",
      "INFO:tensorflow:Restoring parameters from new_id_0/attribute_model-11\n",
      "완료\n",
      "INFO:tensorflow:Restoring parameters from weight_train2_0/weight-model--0\n"
     ]
    }
   ],
   "source": [
    "tf.reset_default_graph()\n",
    "config = tf.ConfigProto()\n",
    "config.gpu_options.allow_growth=True\n",
    "sess = tf.Session(graph=g1,config=config)\n",
    "arg = args()\n",
    "models = GRU4Rec(sess,arg)"
   ]
  },
  {
   "cell_type": "code",
   "execution_count": 12,
   "metadata": {
    "scrolled": false
   },
   "outputs": [
    {
     "name": "stderr",
     "output_type": "stream",
     "text": [
      "D:\\2019.01.04~여행앱개발\\modeling\\weight_train_trip_ev.py:32: SettingWithCopyWarning: \n",
      "A value is trying to be set on a copy of a slice from a DataFrame\n",
      "\n",
      "See the caveats in the documentation: http://pandas.pydata.org/pandas-docs/stable/indexing.html#indexing-view-versus-copy\n",
      "  test_data.sort_values([session_key,time_key],inplace=True)\n"
     ]
    }
   ],
   "source": [
    "l_old=evaluate_sessions_batch(models,test,cut_off=20, session_key = 'Session_id', item_key=\"Spot\",time_key= 'Session_num',batch_size=50)"
   ]
  },
  {
   "cell_type": "code",
   "execution_count": 14,
   "metadata": {},
   "outputs": [],
   "source": [
    "result = pd.DataFrame(columns=[\"k\",\"epoch\",\"top\",\"recall\",\"mrr\",\"unique_lst\"])"
   ]
  },
  {
   "cell_type": "code",
   "execution_count": 15,
   "metadata": {
    "scrolled": true
   },
   "outputs": [
    {
     "name": "stdout",
     "output_type": "stream",
     "text": [
      "INFO:tensorflow:Restoring parameters from City_encoder_0/attribute_model_City_encoder-8\n",
      "완료\n",
      "이거는?\n",
      "INFO:tensorflow:Restoring parameters from new_id_0/attribute_model-11\n",
      "완료\n",
      "INFO:tensorflow:Restoring parameters from weight_train2_0/weight-model--0\n"
     ]
    },
    {
     "name": "stderr",
     "output_type": "stream",
     "text": [
      "D:\\2019.01.04~여행앱개발\\modeling\\weight_train_trip_ev.py:32: SettingWithCopyWarning: \n",
      "A value is trying to be set on a copy of a slice from a DataFrame\n",
      "\n",
      "See the caveats in the documentation: http://pandas.pydata.org/pandas-docs/stable/indexing.html#indexing-view-versus-copy\n",
      "  test_data.sort_values([session_key,time_key],inplace=True)\n"
     ]
    },
    {
     "name": "stdout",
     "output_type": "stream",
     "text": [
      "[0, 0, 5, 0.43154574132492113, 0.27904311251314395, 332]\n",
      "[0, 0, 10, 0.5310199789695058, 0.2924408725986012, 573]\n",
      "[0, 0, 15, 0.5806519453207151, 0.29639472456507143, 741]\n",
      "[0, 0, 20, 0.6143007360672976, 0.29830286210754203, 850]\n",
      "INFO:tensorflow:Restoring parameters from City_encoder_0/attribute_model_City_encoder-8\n",
      "완료\n",
      "이거는?\n",
      "INFO:tensorflow:Restoring parameters from new_id_0/attribute_model-11\n",
      "완료\n",
      "INFO:tensorflow:Restoring parameters from weight_train2_0/weight-model--1\n",
      "[0, 1, 5, 0.43154574132492113, 0.2790606379249911, 333]\n",
      "[0, 1, 10, 0.531440588853838, 0.292531003288101, 575]\n",
      "[0, 1, 15, 0.582124079915878, 0.2965625588338522, 743]\n",
      "[0, 1, 20, 0.614931650893796, 0.2984163368532599, 851]\n",
      "INFO:tensorflow:Restoring parameters from City_encoder_0/attribute_model_City_encoder-8\n",
      "완료\n",
      "이거는?\n",
      "INFO:tensorflow:Restoring parameters from new_id_0/attribute_model-11\n",
      "완료\n",
      "INFO:tensorflow:Restoring parameters from weight_train2_0/weight-model--2\n",
      "[0, 2, 5, 0.43154574132492113, 0.2792113564668769, 331]\n",
      "[0, 2, 10, 0.5318611987381704, 0.292747650760269, 572]\n",
      "[0, 2, 15, 0.5829652996845426, 0.2968212602912917, 740]\n",
      "[0, 2, 20, 0.6161934805467929, 0.2986950758791056, 855]\n",
      "INFO:tensorflow:Restoring parameters from City_encoder_0/attribute_model_City_encoder-8\n",
      "완료\n",
      "이거는?\n",
      "INFO:tensorflow:Restoring parameters from new_id_0/attribute_model-11\n",
      "완료\n",
      "INFO:tensorflow:Restoring parameters from weight_train2_0/weight-model--3\n",
      "[0, 3, 5, 0.43217665615141954, 0.27955485453908163, 329]\n",
      "[0, 3, 10, 0.5320715036803365, 0.2930369035100896, 570]\n",
      "[0, 3, 15, 0.5842271293375394, 0.29720464253587275, 740]\n",
      "[0, 3, 20, 0.6182965299684543, 0.299126797694909, 856]\n",
      "INFO:tensorflow:Restoring parameters from City_encoder_0/attribute_model_City_encoder-8\n",
      "완료\n",
      "이거는?\n",
      "INFO:tensorflow:Restoring parameters from new_id_0/attribute_model-11\n",
      "완료\n",
      "INFO:tensorflow:Restoring parameters from weight_train2_0/weight-model--4\n",
      "[0, 4, 5, 0.4332281808622503, 0.2801261829652996, 324]\n",
      "[0, 4, 10, 0.5339642481598318, 0.2937045382471249, 558]\n",
      "[0, 4, 15, 0.5852786540483701, 0.29781002967122844, 741]\n",
      "[0, 4, 20, 0.6201892744479496, 0.2997837401065712, 857]\n",
      "INFO:tensorflow:Restoring parameters from City_encoder_0/attribute_model_City_encoder-8\n",
      "완료\n",
      "이거는?\n",
      "INFO:tensorflow:Restoring parameters from new_id_0/attribute_model-11\n",
      "완료\n",
      "INFO:tensorflow:Restoring parameters from weight_train2_0/weight-model--5\n",
      "[0, 5, 5, 0.4338590956887487, 0.2802278303540133, 316]\n",
      "[0, 5, 10, 0.5352260778128286, 0.2938834643566504, 551]\n",
      "[0, 5, 15, 0.5875920084121977, 0.29806907194919813, 738]\n",
      "[0, 5, 20, 0.6227129337539432, 0.30005021847647173, 853]\n",
      "INFO:tensorflow:Restoring parameters from City_encoder_0/attribute_model_City_encoder-8\n",
      "완료\n",
      "이거는?\n",
      "INFO:tensorflow:Restoring parameters from new_id_0/attribute_model-11\n",
      "완료\n",
      "INFO:tensorflow:Restoring parameters from weight_train2_0/weight-model--6\n",
      "[0, 6, 5, 0.4340694006309148, 0.2803960743077462, 303]\n",
      "[0, 6, 10, 0.5366982124079915, 0.29421469464056216, 537]\n",
      "[0, 6, 15, 0.5884332281808623, 0.2983451033135575, 731]\n",
      "[0, 6, 20, 0.6231335436382754, 0.3003088275196419, 847]\n",
      "INFO:tensorflow:Restoring parameters from City_encoder_0/attribute_model_City_encoder-8\n",
      "완료\n",
      "이거는?\n",
      "INFO:tensorflow:Restoring parameters from new_id_0/attribute_model-11\n",
      "완료\n",
      "INFO:tensorflow:Restoring parameters from weight_train2_0/weight-model--7\n",
      "[0, 7, 5, 0.4349106203995794, 0.2803750438135295, 289]\n",
      "[0, 7, 10, 0.5375394321766561, 0.29420885283661313, 523]\n",
      "[0, 7, 15, 0.5899053627760252, 0.2983872296648321, 727]\n",
      "[0, 7, 20, 0.6250262881177707, 0.30037615230234704, 856]\n",
      "INFO:tensorflow:Restoring parameters from City_encoder_0/attribute_model_City_encoder-8\n",
      "완료\n",
      "이거는?\n",
      "INFO:tensorflow:Restoring parameters from new_id_0/attribute_model-11\n",
      "완료\n",
      "INFO:tensorflow:Restoring parameters from weight_train2_0/weight-model--8\n",
      "[0, 8, 5, 0.4349106203995794, 0.28038205397826843, 285]\n",
      "[0, 8, 10, 0.5377497371188223, 0.29424624038188707, 513]\n",
      "[0, 8, 15, 0.5899053627760252, 0.29840540753789957, 717]\n",
      "[0, 8, 20, 0.625236593059937, 0.30041039513627443, 853]\n",
      "INFO:tensorflow:Restoring parameters from City_encoder_0/attribute_model_City_encoder-8\n",
      "완료\n",
      "이거는?\n",
      "INFO:tensorflow:Restoring parameters from new_id_0/attribute_model-11\n",
      "완료\n",
      "INFO:tensorflow:Restoring parameters from weight_train2_0/weight-model--9\n",
      "[0, 9, 5, 0.4351209253417455, 0.28040658955485454, 276]\n",
      "[0, 9, 10, 0.5377497371188223, 0.29421878390332645, 502]\n",
      "[0, 9, 15, 0.5899053627760252, 0.29837444597696955, 708]\n",
      "[0, 9, 20, 0.6256572029442692, 0.3003965466245598, 850]\n"
     ]
    }
   ],
   "source": [
    "\n",
    "k= 0\n",
    "for i in range(0,10):\n",
    "    tf.reset_default_graph()\n",
    "    g1 = tf.Graph()\n",
    "    arg = args()\n",
    "    arg.graph =g1\n",
    "    config = tf.ConfigProto()\n",
    "    config.gpu_options.allow_growth=True\n",
    "    sess = tf.Session(graph=g1,config=config)\n",
    "    arg.test_model = i\n",
    "    models = GRU4Rec(sess,arg)\n",
    "    l_old=evaluate_sessions_batch(models,test, session_key= 'Session_id', item_key='Spot', time_key= 'Session_num',batch_size=50)\n",
    "    #print(l_old[:2])\n",
    "    #print(len(set(np.array(l_old[2].Rec_lst.tolist()).reshape(-1))))\n",
    "    for idx,tt in enumerate([5,10,15,20],1):\n",
    "        mini=[k,i,tt,l_old[0][idx],l_old[1][idx],len(set(np.array(l_old[2].Rec_lst.apply(lambda x:x[:tt]).tolist()).reshape(-1)))]\n",
    "        result_mini = pd.Series(mini,index=[\"k\",\"epoch\",\"top\",\"recall\",\"mrr\",\"unique_lst\"])\n",
    "        result=result.append(result_mini,ignore_index=True)\n",
    "        print(mini)"
   ]
  },
  {
   "cell_type": "code",
   "execution_count": 20,
   "metadata": {},
   "outputs": [],
   "source": [
    "tf.reset_default_graph()"
   ]
  },
  {
   "cell_type": "code",
   "execution_count": 8,
   "metadata": {},
   "outputs": [
    {
     "name": "stdout",
     "output_type": "stream",
     "text": [
      "INFO:tensorflow:Restoring parameters from City_encoder_0/attribute_model_City_encoder-8\n",
      "완료\n",
      "이거는?\n",
      "완료\n",
      "fitting model....\n",
      "[    0     8    32 ... 22839 22846 22850]\n"
     ]
    },
    {
     "ename": "FailedPreconditionError",
     "evalue": "Attempting to use uninitialized value gru_layer/softmax_w0\n\t [[Node: gru_layer/softmax_w0/read = Identity[T=DT_FLOAT, _class=[\"loc:@gru_layer/softmax_w0\"], _device=\"/job:localhost/replica:0/task:0/device:GPU:0\"](gru_layer/softmax_w0)]]\n\t [[Node: gru_layer/BatchNorm/Reshape_1/_9 = _Recv[client_terminated=false, recv_device=\"/job:localhost/replica:0/task:0/device:CPU:0\", send_device=\"/job:localhost/replica:0/task:0/device:GPU:0\", send_device_incarnation=1, tensor_name=\"edge_100_gru_layer/BatchNorm/Reshape_1\", tensor_type=DT_FLOAT, _device=\"/job:localhost/replica:0/task:0/device:CPU:0\"]()]]\n\nCaused by op 'gru_layer/softmax_w0/read', defined at:\n  File \"C:\\Users\\LeeWonSeok\\Anaconda3\\envs\\for_tensor\\lib\\runpy.py\", line 193, in _run_module_as_main\n    \"__main__\", mod_spec)\n  File \"C:\\Users\\LeeWonSeok\\Anaconda3\\envs\\for_tensor\\lib\\runpy.py\", line 85, in _run_code\n    exec(code, run_globals)\n  File \"C:\\Users\\LeeWonSeok\\Anaconda3\\envs\\for_tensor\\lib\\site-packages\\ipykernel_launcher.py\", line 16, in <module>\n    app.launch_new_instance()\n  File \"C:\\Users\\LeeWonSeok\\Anaconda3\\envs\\for_tensor\\lib\\site-packages\\traitlets\\config\\application.py\", line 658, in launch_instance\n    app.start()\n  File \"C:\\Users\\LeeWonSeok\\Anaconda3\\envs\\for_tensor\\lib\\site-packages\\ipykernel\\kernelapp.py\", line 478, in start\n    self.io_loop.start()\n  File \"C:\\Users\\LeeWonSeok\\Anaconda3\\envs\\for_tensor\\lib\\site-packages\\zmq\\eventloop\\ioloop.py\", line 177, in start\n    super(ZMQIOLoop, self).start()\n  File \"C:\\Users\\LeeWonSeok\\Anaconda3\\envs\\for_tensor\\lib\\site-packages\\tornado\\ioloop.py\", line 888, in start\n    handler_func(fd_obj, events)\n  File \"C:\\Users\\LeeWonSeok\\Anaconda3\\envs\\for_tensor\\lib\\site-packages\\tornado\\stack_context.py\", line 277, in null_wrapper\n    return fn(*args, **kwargs)\n  File \"C:\\Users\\LeeWonSeok\\Anaconda3\\envs\\for_tensor\\lib\\site-packages\\zmq\\eventloop\\zmqstream.py\", line 440, in _handle_events\n    self._handle_recv()\n  File \"C:\\Users\\LeeWonSeok\\Anaconda3\\envs\\for_tensor\\lib\\site-packages\\zmq\\eventloop\\zmqstream.py\", line 472, in _handle_recv\n    self._run_callback(callback, msg)\n  File \"C:\\Users\\LeeWonSeok\\Anaconda3\\envs\\for_tensor\\lib\\site-packages\\zmq\\eventloop\\zmqstream.py\", line 414, in _run_callback\n    callback(*args, **kwargs)\n  File \"C:\\Users\\LeeWonSeok\\Anaconda3\\envs\\for_tensor\\lib\\site-packages\\tornado\\stack_context.py\", line 277, in null_wrapper\n    return fn(*args, **kwargs)\n  File \"C:\\Users\\LeeWonSeok\\Anaconda3\\envs\\for_tensor\\lib\\site-packages\\ipykernel\\kernelbase.py\", line 281, in dispatcher\n    return self.dispatch_shell(stream, msg)\n  File \"C:\\Users\\LeeWonSeok\\Anaconda3\\envs\\for_tensor\\lib\\site-packages\\ipykernel\\kernelbase.py\", line 232, in dispatch_shell\n    handler(stream, idents, msg)\n  File \"C:\\Users\\LeeWonSeok\\Anaconda3\\envs\\for_tensor\\lib\\site-packages\\ipykernel\\kernelbase.py\", line 397, in execute_request\n    user_expressions, allow_stdin)\n  File \"C:\\Users\\LeeWonSeok\\Anaconda3\\envs\\for_tensor\\lib\\site-packages\\ipykernel\\ipkernel.py\", line 208, in do_execute\n    res = shell.run_cell(code, store_history=store_history, silent=silent)\n  File \"C:\\Users\\LeeWonSeok\\Anaconda3\\envs\\for_tensor\\lib\\site-packages\\ipykernel\\zmqshell.py\", line 533, in run_cell\n    return super(ZMQInteractiveShell, self).run_cell(*args, **kwargs)\n  File \"C:\\Users\\LeeWonSeok\\Anaconda3\\envs\\for_tensor\\lib\\site-packages\\IPython\\core\\interactiveshell.py\", line 2728, in run_cell\n    interactivity=interactivity, compiler=compiler, result=result)\n  File \"C:\\Users\\LeeWonSeok\\Anaconda3\\envs\\for_tensor\\lib\\site-packages\\IPython\\core\\interactiveshell.py\", line 2850, in run_ast_nodes\n    if self.run_code(code, result):\n  File \"C:\\Users\\LeeWonSeok\\Anaconda3\\envs\\for_tensor\\lib\\site-packages\\IPython\\core\\interactiveshell.py\", line 2910, in run_code\n    exec(code_obj, self.user_global_ns, self.user_ns)\n  File \"<ipython-input-8-3db56efc55b2>\", line 19, in <module>\n    models = GRU4Rec(sess,arg)\n  File \"D:\\2019.01.04~여행앱개발\\modeling\\weight_train_trip2.py\", line 116, in __init__\n    self.build_model2(i)\n  File \"D:\\2019.01.04~여행앱개발\\modeling\\weight_train_trip2.py\", line 225, in build_model2\n    softmax_W = tf.get_variable('softmax_w0', [self.attribute[idx], self.rnn_size[idx]], initializer=tf.random_normal_initializer())\n  File \"C:\\Users\\LeeWonSeok\\Anaconda3\\envs\\for_tensor\\lib\\site-packages\\tensorflow\\python\\ops\\variable_scope.py\", line 1262, in get_variable\n    constraint=constraint)\n  File \"C:\\Users\\LeeWonSeok\\Anaconda3\\envs\\for_tensor\\lib\\site-packages\\tensorflow\\python\\ops\\variable_scope.py\", line 1097, in get_variable\n    constraint=constraint)\n  File \"C:\\Users\\LeeWonSeok\\Anaconda3\\envs\\for_tensor\\lib\\site-packages\\tensorflow\\python\\ops\\variable_scope.py\", line 435, in get_variable\n    constraint=constraint)\n  File \"C:\\Users\\LeeWonSeok\\Anaconda3\\envs\\for_tensor\\lib\\site-packages\\tensorflow\\python\\ops\\variable_scope.py\", line 404, in _true_getter\n    use_resource=use_resource, constraint=constraint)\n  File \"C:\\Users\\LeeWonSeok\\Anaconda3\\envs\\for_tensor\\lib\\site-packages\\tensorflow\\python\\ops\\variable_scope.py\", line 806, in _get_single_variable\n    constraint=constraint)\n  File \"C:\\Users\\LeeWonSeok\\Anaconda3\\envs\\for_tensor\\lib\\site-packages\\tensorflow\\python\\ops\\variables.py\", line 229, in __init__\n    constraint=constraint)\n  File \"C:\\Users\\LeeWonSeok\\Anaconda3\\envs\\for_tensor\\lib\\site-packages\\tensorflow\\python\\ops\\variables.py\", line 376, in _init_from_args\n    self._snapshot = array_ops.identity(self._variable, name=\"read\")\n  File \"C:\\Users\\LeeWonSeok\\Anaconda3\\envs\\for_tensor\\lib\\site-packages\\tensorflow\\python\\ops\\array_ops.py\", line 127, in identity\n    return gen_array_ops.identity(input, name=name)\n  File \"C:\\Users\\LeeWonSeok\\Anaconda3\\envs\\for_tensor\\lib\\site-packages\\tensorflow\\python\\ops\\gen_array_ops.py\", line 2728, in identity\n    \"Identity\", input=input, name=name)\n  File \"C:\\Users\\LeeWonSeok\\Anaconda3\\envs\\for_tensor\\lib\\site-packages\\tensorflow\\python\\framework\\op_def_library.py\", line 787, in _apply_op_helper\n    op_def=op_def)\n  File \"C:\\Users\\LeeWonSeok\\Anaconda3\\envs\\for_tensor\\lib\\site-packages\\tensorflow\\python\\framework\\ops.py\", line 3160, in create_op\n    op_def=op_def)\n  File \"C:\\Users\\LeeWonSeok\\Anaconda3\\envs\\for_tensor\\lib\\site-packages\\tensorflow\\python\\framework\\ops.py\", line 1625, in __init__\n    self._traceback = self._graph._extract_stack()  # pylint: disable=protected-access\n\nFailedPreconditionError (see above for traceback): Attempting to use uninitialized value gru_layer/softmax_w0\n\t [[Node: gru_layer/softmax_w0/read = Identity[T=DT_FLOAT, _class=[\"loc:@gru_layer/softmax_w0\"], _device=\"/job:localhost/replica:0/task:0/device:GPU:0\"](gru_layer/softmax_w0)]]\n\t [[Node: gru_layer/BatchNorm/Reshape_1/_9 = _Recv[client_terminated=false, recv_device=\"/job:localhost/replica:0/task:0/device:CPU:0\", send_device=\"/job:localhost/replica:0/task:0/device:GPU:0\", send_device_incarnation=1, tensor_name=\"edge_100_gru_layer/BatchNorm/Reshape_1\", tensor_type=DT_FLOAT, _device=\"/job:localhost/replica:0/task:0/device:CPU:0\"]()]]\n",
     "output_type": "error",
     "traceback": [
      "\u001b[1;31m---------------------------------------------------------------------------\u001b[0m",
      "\u001b[1;31mFailedPreconditionError\u001b[0m                   Traceback (most recent call last)",
      "\u001b[1;32m~\\Anaconda3\\envs\\for_tensor\\lib\\site-packages\\tensorflow\\python\\client\\session.py\u001b[0m in \u001b[0;36m_do_call\u001b[1;34m(self, fn, *args)\u001b[0m\n\u001b[0;32m   1349\u001b[0m     \u001b[1;32mtry\u001b[0m\u001b[1;33m:\u001b[0m\u001b[1;33m\u001b[0m\u001b[0m\n\u001b[1;32m-> 1350\u001b[1;33m       \u001b[1;32mreturn\u001b[0m \u001b[0mfn\u001b[0m\u001b[1;33m(\u001b[0m\u001b[1;33m*\u001b[0m\u001b[0margs\u001b[0m\u001b[1;33m)\u001b[0m\u001b[1;33m\u001b[0m\u001b[0m\n\u001b[0m\u001b[0;32m   1351\u001b[0m     \u001b[1;32mexcept\u001b[0m \u001b[0merrors\u001b[0m\u001b[1;33m.\u001b[0m\u001b[0mOpError\u001b[0m \u001b[1;32mas\u001b[0m \u001b[0me\u001b[0m\u001b[1;33m:\u001b[0m\u001b[1;33m\u001b[0m\u001b[0m\n",
      "\u001b[1;32m~\\Anaconda3\\envs\\for_tensor\\lib\\site-packages\\tensorflow\\python\\client\\session.py\u001b[0m in \u001b[0;36m_run_fn\u001b[1;34m(session, feed_dict, fetch_list, target_list, options, run_metadata)\u001b[0m\n\u001b[0;32m   1328\u001b[0m                                    \u001b[0mfeed_dict\u001b[0m\u001b[1;33m,\u001b[0m \u001b[0mfetch_list\u001b[0m\u001b[1;33m,\u001b[0m \u001b[0mtarget_list\u001b[0m\u001b[1;33m,\u001b[0m\u001b[1;33m\u001b[0m\u001b[0m\n\u001b[1;32m-> 1329\u001b[1;33m                                    status, run_metadata)\n\u001b[0m\u001b[0;32m   1330\u001b[0m \u001b[1;33m\u001b[0m\u001b[0m\n",
      "\u001b[1;32m~\\Anaconda3\\envs\\for_tensor\\lib\\site-packages\\tensorflow\\python\\framework\\errors_impl.py\u001b[0m in \u001b[0;36m__exit__\u001b[1;34m(self, type_arg, value_arg, traceback_arg)\u001b[0m\n\u001b[0;32m    472\u001b[0m             \u001b[0mcompat\u001b[0m\u001b[1;33m.\u001b[0m\u001b[0mas_text\u001b[0m\u001b[1;33m(\u001b[0m\u001b[0mc_api\u001b[0m\u001b[1;33m.\u001b[0m\u001b[0mTF_Message\u001b[0m\u001b[1;33m(\u001b[0m\u001b[0mself\u001b[0m\u001b[1;33m.\u001b[0m\u001b[0mstatus\u001b[0m\u001b[1;33m.\u001b[0m\u001b[0mstatus\u001b[0m\u001b[1;33m)\u001b[0m\u001b[1;33m)\u001b[0m\u001b[1;33m,\u001b[0m\u001b[1;33m\u001b[0m\u001b[0m\n\u001b[1;32m--> 473\u001b[1;33m             c_api.TF_GetCode(self.status.status))\n\u001b[0m\u001b[0;32m    474\u001b[0m     \u001b[1;31m# Delete the underlying status object from memory otherwise it stays alive\u001b[0m\u001b[1;33m\u001b[0m\u001b[1;33m\u001b[0m\u001b[0m\n",
      "\u001b[1;31mFailedPreconditionError\u001b[0m: Attempting to use uninitialized value gru_layer/softmax_w0\n\t [[Node: gru_layer/softmax_w0/read = Identity[T=DT_FLOAT, _class=[\"loc:@gru_layer/softmax_w0\"], _device=\"/job:localhost/replica:0/task:0/device:GPU:0\"](gru_layer/softmax_w0)]]\n\t [[Node: gru_layer/BatchNorm/Reshape_1/_9 = _Recv[client_terminated=false, recv_device=\"/job:localhost/replica:0/task:0/device:CPU:0\", send_device=\"/job:localhost/replica:0/task:0/device:GPU:0\", send_device_incarnation=1, tensor_name=\"edge_100_gru_layer/BatchNorm/Reshape_1\", tensor_type=DT_FLOAT, _device=\"/job:localhost/replica:0/task:0/device:CPU:0\"]()]]",
      "\nDuring handling of the above exception, another exception occurred:\n",
      "\u001b[1;31mFailedPreconditionError\u001b[0m                   Traceback (most recent call last)",
      "\u001b[1;32m<ipython-input-8-3db56efc55b2>\u001b[0m in \u001b[0;36m<module>\u001b[1;34m()\u001b[0m\n\u001b[0;32m     18\u001b[0m \u001b[1;33m\u001b[0m\u001b[0m\n\u001b[0;32m     19\u001b[0m     \u001b[0mmodels\u001b[0m \u001b[1;33m=\u001b[0m \u001b[0mGRU4Rec\u001b[0m\u001b[1;33m(\u001b[0m\u001b[0msess\u001b[0m\u001b[1;33m,\u001b[0m\u001b[0marg\u001b[0m\u001b[1;33m)\u001b[0m\u001b[1;33m\u001b[0m\u001b[0m\n\u001b[1;32m---> 20\u001b[1;33m     \u001b[0mmodels\u001b[0m\u001b[1;33m.\u001b[0m\u001b[0mfit\u001b[0m\u001b[1;33m(\u001b[0m\u001b[0mtrain\u001b[0m\u001b[1;33m)\u001b[0m\u001b[1;33m\u001b[0m\u001b[0m\n\u001b[0m\u001b[0;32m     21\u001b[0m \u001b[1;33m\u001b[0m\u001b[0m\n\u001b[0;32m     22\u001b[0m \u001b[1;33m\u001b[0m\u001b[0m\n",
      "\u001b[1;32mD:\\2019.01.04~여행앱개발\\modeling\\weight_train_trip2.py\u001b[0m in \u001b[0;36mfit\u001b[1;34m(self, data2)\u001b[0m\n\u001b[0;32m    343\u001b[0m                     \u001b[0mat_states\u001b[0m \u001b[1;33m=\u001b[0m \u001b[1;33m[\u001b[0m\u001b[1;33m]\u001b[0m\u001b[1;33m\u001b[0m\u001b[0m\n\u001b[0;32m    344\u001b[0m                     \u001b[1;32mfor\u001b[0m \u001b[0midx\u001b[0m\u001b[1;33m,\u001b[0m\u001b[0mses\u001b[0m \u001b[1;32min\u001b[0m \u001b[0menumerate\u001b[0m\u001b[1;33m(\u001b[0m\u001b[0mself\u001b[0m\u001b[1;33m.\u001b[0m\u001b[0msesses\u001b[0m\u001b[1;33m)\u001b[0m\u001b[1;33m:\u001b[0m\u001b[1;33m\u001b[0m\u001b[0m\n\u001b[1;32m--> 345\u001b[1;33m                         \u001b[0my\u001b[0m\u001b[1;33m,\u001b[0m\u001b[0mat_state\u001b[0m\u001b[1;33m=\u001b[0m \u001b[0mses\u001b[0m\u001b[1;33m.\u001b[0m\u001b[0mrun\u001b[0m\u001b[1;33m(\u001b[0m\u001b[0mfetches\u001b[0m\u001b[1;33m[\u001b[0m\u001b[0midx\u001b[0m\u001b[1;33m]\u001b[0m\u001b[1;33m,\u001b[0m \u001b[0mfeed_dict\u001b[0m\u001b[1;33m=\u001b[0m\u001b[0mfeed_dicts\u001b[0m\u001b[1;33m[\u001b[0m\u001b[0midx\u001b[0m\u001b[1;33m]\u001b[0m\u001b[1;33m)\u001b[0m\u001b[1;33m\u001b[0m\u001b[0m\n\u001b[0m\u001b[0;32m    346\u001b[0m                         \u001b[0myhats\u001b[0m\u001b[1;33m.\u001b[0m\u001b[0mappend\u001b[0m\u001b[1;33m(\u001b[0m\u001b[1;33m(\u001b[0m\u001b[0mself\u001b[0m\u001b[1;33m.\u001b[0m\u001b[0mscale\u001b[0m\u001b[1;33m(\u001b[0m\u001b[0my\u001b[0m\u001b[1;33m)\u001b[0m\u001b[1;33m+\u001b[0m\u001b[1;36m1\u001b[0m\u001b[1;33m)\u001b[0m\u001b[1;33m)\u001b[0m\u001b[1;33m\u001b[0m\u001b[0m\n\u001b[0;32m    347\u001b[0m                         \u001b[1;31m#yhats.append(y)\u001b[0m\u001b[1;33m\u001b[0m\u001b[1;33m\u001b[0m\u001b[0m\n",
      "\u001b[1;32m~\\Anaconda3\\envs\\for_tensor\\lib\\site-packages\\tensorflow\\python\\client\\session.py\u001b[0m in \u001b[0;36mrun\u001b[1;34m(self, fetches, feed_dict, options, run_metadata)\u001b[0m\n\u001b[0;32m    893\u001b[0m     \u001b[1;32mtry\u001b[0m\u001b[1;33m:\u001b[0m\u001b[1;33m\u001b[0m\u001b[0m\n\u001b[0;32m    894\u001b[0m       result = self._run(None, fetches, feed_dict, options_ptr,\n\u001b[1;32m--> 895\u001b[1;33m                          run_metadata_ptr)\n\u001b[0m\u001b[0;32m    896\u001b[0m       \u001b[1;32mif\u001b[0m \u001b[0mrun_metadata\u001b[0m\u001b[1;33m:\u001b[0m\u001b[1;33m\u001b[0m\u001b[0m\n\u001b[0;32m    897\u001b[0m         \u001b[0mproto_data\u001b[0m \u001b[1;33m=\u001b[0m \u001b[0mtf_session\u001b[0m\u001b[1;33m.\u001b[0m\u001b[0mTF_GetBuffer\u001b[0m\u001b[1;33m(\u001b[0m\u001b[0mrun_metadata_ptr\u001b[0m\u001b[1;33m)\u001b[0m\u001b[1;33m\u001b[0m\u001b[0m\n",
      "\u001b[1;32m~\\Anaconda3\\envs\\for_tensor\\lib\\site-packages\\tensorflow\\python\\client\\session.py\u001b[0m in \u001b[0;36m_run\u001b[1;34m(self, handle, fetches, feed_dict, options, run_metadata)\u001b[0m\n\u001b[0;32m   1126\u001b[0m     \u001b[1;32mif\u001b[0m \u001b[0mfinal_fetches\u001b[0m \u001b[1;32mor\u001b[0m \u001b[0mfinal_targets\u001b[0m \u001b[1;32mor\u001b[0m \u001b[1;33m(\u001b[0m\u001b[0mhandle\u001b[0m \u001b[1;32mand\u001b[0m \u001b[0mfeed_dict_tensor\u001b[0m\u001b[1;33m)\u001b[0m\u001b[1;33m:\u001b[0m\u001b[1;33m\u001b[0m\u001b[0m\n\u001b[0;32m   1127\u001b[0m       results = self._do_run(handle, final_targets, final_fetches,\n\u001b[1;32m-> 1128\u001b[1;33m                              feed_dict_tensor, options, run_metadata)\n\u001b[0m\u001b[0;32m   1129\u001b[0m     \u001b[1;32melse\u001b[0m\u001b[1;33m:\u001b[0m\u001b[1;33m\u001b[0m\u001b[0m\n\u001b[0;32m   1130\u001b[0m       \u001b[0mresults\u001b[0m \u001b[1;33m=\u001b[0m \u001b[1;33m[\u001b[0m\u001b[1;33m]\u001b[0m\u001b[1;33m\u001b[0m\u001b[0m\n",
      "\u001b[1;32m~\\Anaconda3\\envs\\for_tensor\\lib\\site-packages\\tensorflow\\python\\client\\session.py\u001b[0m in \u001b[0;36m_do_run\u001b[1;34m(self, handle, target_list, fetch_list, feed_dict, options, run_metadata)\u001b[0m\n\u001b[0;32m   1342\u001b[0m     \u001b[1;32mif\u001b[0m \u001b[0mhandle\u001b[0m \u001b[1;32mis\u001b[0m \u001b[1;32mNone\u001b[0m\u001b[1;33m:\u001b[0m\u001b[1;33m\u001b[0m\u001b[0m\n\u001b[0;32m   1343\u001b[0m       return self._do_call(_run_fn, self._session, feeds, fetches, targets,\n\u001b[1;32m-> 1344\u001b[1;33m                            options, run_metadata)\n\u001b[0m\u001b[0;32m   1345\u001b[0m     \u001b[1;32melse\u001b[0m\u001b[1;33m:\u001b[0m\u001b[1;33m\u001b[0m\u001b[0m\n\u001b[0;32m   1346\u001b[0m       \u001b[1;32mreturn\u001b[0m \u001b[0mself\u001b[0m\u001b[1;33m.\u001b[0m\u001b[0m_do_call\u001b[0m\u001b[1;33m(\u001b[0m\u001b[0m_prun_fn\u001b[0m\u001b[1;33m,\u001b[0m \u001b[0mself\u001b[0m\u001b[1;33m.\u001b[0m\u001b[0m_session\u001b[0m\u001b[1;33m,\u001b[0m \u001b[0mhandle\u001b[0m\u001b[1;33m,\u001b[0m \u001b[0mfeeds\u001b[0m\u001b[1;33m,\u001b[0m \u001b[0mfetches\u001b[0m\u001b[1;33m)\u001b[0m\u001b[1;33m\u001b[0m\u001b[0m\n",
      "\u001b[1;32m~\\Anaconda3\\envs\\for_tensor\\lib\\site-packages\\tensorflow\\python\\client\\session.py\u001b[0m in \u001b[0;36m_do_call\u001b[1;34m(self, fn, *args)\u001b[0m\n\u001b[0;32m   1361\u001b[0m         \u001b[1;32mexcept\u001b[0m \u001b[0mKeyError\u001b[0m\u001b[1;33m:\u001b[0m\u001b[1;33m\u001b[0m\u001b[0m\n\u001b[0;32m   1362\u001b[0m           \u001b[1;32mpass\u001b[0m\u001b[1;33m\u001b[0m\u001b[0m\n\u001b[1;32m-> 1363\u001b[1;33m       \u001b[1;32mraise\u001b[0m \u001b[0mtype\u001b[0m\u001b[1;33m(\u001b[0m\u001b[0me\u001b[0m\u001b[1;33m)\u001b[0m\u001b[1;33m(\u001b[0m\u001b[0mnode_def\u001b[0m\u001b[1;33m,\u001b[0m \u001b[0mop\u001b[0m\u001b[1;33m,\u001b[0m \u001b[0mmessage\u001b[0m\u001b[1;33m)\u001b[0m\u001b[1;33m\u001b[0m\u001b[0m\n\u001b[0m\u001b[0;32m   1364\u001b[0m \u001b[1;33m\u001b[0m\u001b[0m\n\u001b[0;32m   1365\u001b[0m   \u001b[1;32mdef\u001b[0m \u001b[0m_extend_graph\u001b[0m\u001b[1;33m(\u001b[0m\u001b[0mself\u001b[0m\u001b[1;33m)\u001b[0m\u001b[1;33m:\u001b[0m\u001b[1;33m\u001b[0m\u001b[0m\n",
      "\u001b[1;31mFailedPreconditionError\u001b[0m: Attempting to use uninitialized value gru_layer/softmax_w0\n\t [[Node: gru_layer/softmax_w0/read = Identity[T=DT_FLOAT, _class=[\"loc:@gru_layer/softmax_w0\"], _device=\"/job:localhost/replica:0/task:0/device:GPU:0\"](gru_layer/softmax_w0)]]\n\t [[Node: gru_layer/BatchNorm/Reshape_1/_9 = _Recv[client_terminated=false, recv_device=\"/job:localhost/replica:0/task:0/device:CPU:0\", send_device=\"/job:localhost/replica:0/task:0/device:GPU:0\", send_device_incarnation=1, tensor_name=\"edge_100_gru_layer/BatchNorm/Reshape_1\", tensor_type=DT_FLOAT, _device=\"/job:localhost/replica:0/task:0/device:CPU:0\"]()]]\n\nCaused by op 'gru_layer/softmax_w0/read', defined at:\n  File \"C:\\Users\\LeeWonSeok\\Anaconda3\\envs\\for_tensor\\lib\\runpy.py\", line 193, in _run_module_as_main\n    \"__main__\", mod_spec)\n  File \"C:\\Users\\LeeWonSeok\\Anaconda3\\envs\\for_tensor\\lib\\runpy.py\", line 85, in _run_code\n    exec(code, run_globals)\n  File \"C:\\Users\\LeeWonSeok\\Anaconda3\\envs\\for_tensor\\lib\\site-packages\\ipykernel_launcher.py\", line 16, in <module>\n    app.launch_new_instance()\n  File \"C:\\Users\\LeeWonSeok\\Anaconda3\\envs\\for_tensor\\lib\\site-packages\\traitlets\\config\\application.py\", line 658, in launch_instance\n    app.start()\n  File \"C:\\Users\\LeeWonSeok\\Anaconda3\\envs\\for_tensor\\lib\\site-packages\\ipykernel\\kernelapp.py\", line 478, in start\n    self.io_loop.start()\n  File \"C:\\Users\\LeeWonSeok\\Anaconda3\\envs\\for_tensor\\lib\\site-packages\\zmq\\eventloop\\ioloop.py\", line 177, in start\n    super(ZMQIOLoop, self).start()\n  File \"C:\\Users\\LeeWonSeok\\Anaconda3\\envs\\for_tensor\\lib\\site-packages\\tornado\\ioloop.py\", line 888, in start\n    handler_func(fd_obj, events)\n  File \"C:\\Users\\LeeWonSeok\\Anaconda3\\envs\\for_tensor\\lib\\site-packages\\tornado\\stack_context.py\", line 277, in null_wrapper\n    return fn(*args, **kwargs)\n  File \"C:\\Users\\LeeWonSeok\\Anaconda3\\envs\\for_tensor\\lib\\site-packages\\zmq\\eventloop\\zmqstream.py\", line 440, in _handle_events\n    self._handle_recv()\n  File \"C:\\Users\\LeeWonSeok\\Anaconda3\\envs\\for_tensor\\lib\\site-packages\\zmq\\eventloop\\zmqstream.py\", line 472, in _handle_recv\n    self._run_callback(callback, msg)\n  File \"C:\\Users\\LeeWonSeok\\Anaconda3\\envs\\for_tensor\\lib\\site-packages\\zmq\\eventloop\\zmqstream.py\", line 414, in _run_callback\n    callback(*args, **kwargs)\n  File \"C:\\Users\\LeeWonSeok\\Anaconda3\\envs\\for_tensor\\lib\\site-packages\\tornado\\stack_context.py\", line 277, in null_wrapper\n    return fn(*args, **kwargs)\n  File \"C:\\Users\\LeeWonSeok\\Anaconda3\\envs\\for_tensor\\lib\\site-packages\\ipykernel\\kernelbase.py\", line 281, in dispatcher\n    return self.dispatch_shell(stream, msg)\n  File \"C:\\Users\\LeeWonSeok\\Anaconda3\\envs\\for_tensor\\lib\\site-packages\\ipykernel\\kernelbase.py\", line 232, in dispatch_shell\n    handler(stream, idents, msg)\n  File \"C:\\Users\\LeeWonSeok\\Anaconda3\\envs\\for_tensor\\lib\\site-packages\\ipykernel\\kernelbase.py\", line 397, in execute_request\n    user_expressions, allow_stdin)\n  File \"C:\\Users\\LeeWonSeok\\Anaconda3\\envs\\for_tensor\\lib\\site-packages\\ipykernel\\ipkernel.py\", line 208, in do_execute\n    res = shell.run_cell(code, store_history=store_history, silent=silent)\n  File \"C:\\Users\\LeeWonSeok\\Anaconda3\\envs\\for_tensor\\lib\\site-packages\\ipykernel\\zmqshell.py\", line 533, in run_cell\n    return super(ZMQInteractiveShell, self).run_cell(*args, **kwargs)\n  File \"C:\\Users\\LeeWonSeok\\Anaconda3\\envs\\for_tensor\\lib\\site-packages\\IPython\\core\\interactiveshell.py\", line 2728, in run_cell\n    interactivity=interactivity, compiler=compiler, result=result)\n  File \"C:\\Users\\LeeWonSeok\\Anaconda3\\envs\\for_tensor\\lib\\site-packages\\IPython\\core\\interactiveshell.py\", line 2850, in run_ast_nodes\n    if self.run_code(code, result):\n  File \"C:\\Users\\LeeWonSeok\\Anaconda3\\envs\\for_tensor\\lib\\site-packages\\IPython\\core\\interactiveshell.py\", line 2910, in run_code\n    exec(code_obj, self.user_global_ns, self.user_ns)\n  File \"<ipython-input-8-3db56efc55b2>\", line 19, in <module>\n    models = GRU4Rec(sess,arg)\n  File \"D:\\2019.01.04~여행앱개발\\modeling\\weight_train_trip2.py\", line 116, in __init__\n    self.build_model2(i)\n  File \"D:\\2019.01.04~여행앱개발\\modeling\\weight_train_trip2.py\", line 225, in build_model2\n    softmax_W = tf.get_variable('softmax_w0', [self.attribute[idx], self.rnn_size[idx]], initializer=tf.random_normal_initializer())\n  File \"C:\\Users\\LeeWonSeok\\Anaconda3\\envs\\for_tensor\\lib\\site-packages\\tensorflow\\python\\ops\\variable_scope.py\", line 1262, in get_variable\n    constraint=constraint)\n  File \"C:\\Users\\LeeWonSeok\\Anaconda3\\envs\\for_tensor\\lib\\site-packages\\tensorflow\\python\\ops\\variable_scope.py\", line 1097, in get_variable\n    constraint=constraint)\n  File \"C:\\Users\\LeeWonSeok\\Anaconda3\\envs\\for_tensor\\lib\\site-packages\\tensorflow\\python\\ops\\variable_scope.py\", line 435, in get_variable\n    constraint=constraint)\n  File \"C:\\Users\\LeeWonSeok\\Anaconda3\\envs\\for_tensor\\lib\\site-packages\\tensorflow\\python\\ops\\variable_scope.py\", line 404, in _true_getter\n    use_resource=use_resource, constraint=constraint)\n  File \"C:\\Users\\LeeWonSeok\\Anaconda3\\envs\\for_tensor\\lib\\site-packages\\tensorflow\\python\\ops\\variable_scope.py\", line 806, in _get_single_variable\n    constraint=constraint)\n  File \"C:\\Users\\LeeWonSeok\\Anaconda3\\envs\\for_tensor\\lib\\site-packages\\tensorflow\\python\\ops\\variables.py\", line 229, in __init__\n    constraint=constraint)\n  File \"C:\\Users\\LeeWonSeok\\Anaconda3\\envs\\for_tensor\\lib\\site-packages\\tensorflow\\python\\ops\\variables.py\", line 376, in _init_from_args\n    self._snapshot = array_ops.identity(self._variable, name=\"read\")\n  File \"C:\\Users\\LeeWonSeok\\Anaconda3\\envs\\for_tensor\\lib\\site-packages\\tensorflow\\python\\ops\\array_ops.py\", line 127, in identity\n    return gen_array_ops.identity(input, name=name)\n  File \"C:\\Users\\LeeWonSeok\\Anaconda3\\envs\\for_tensor\\lib\\site-packages\\tensorflow\\python\\ops\\gen_array_ops.py\", line 2728, in identity\n    \"Identity\", input=input, name=name)\n  File \"C:\\Users\\LeeWonSeok\\Anaconda3\\envs\\for_tensor\\lib\\site-packages\\tensorflow\\python\\framework\\op_def_library.py\", line 787, in _apply_op_helper\n    op_def=op_def)\n  File \"C:\\Users\\LeeWonSeok\\Anaconda3\\envs\\for_tensor\\lib\\site-packages\\tensorflow\\python\\framework\\ops.py\", line 3160, in create_op\n    op_def=op_def)\n  File \"C:\\Users\\LeeWonSeok\\Anaconda3\\envs\\for_tensor\\lib\\site-packages\\tensorflow\\python\\framework\\ops.py\", line 1625, in __init__\n    self._traceback = self._graph._extract_stack()  # pylint: disable=protected-access\n\nFailedPreconditionError (see above for traceback): Attempting to use uninitialized value gru_layer/softmax_w0\n\t [[Node: gru_layer/softmax_w0/read = Identity[T=DT_FLOAT, _class=[\"loc:@gru_layer/softmax_w0\"], _device=\"/job:localhost/replica:0/task:0/device:GPU:0\"](gru_layer/softmax_w0)]]\n\t [[Node: gru_layer/BatchNorm/Reshape_1/_9 = _Recv[client_terminated=false, recv_device=\"/job:localhost/replica:0/task:0/device:CPU:0\", send_device=\"/job:localhost/replica:0/task:0/device:GPU:0\", send_device_incarnation=1, tensor_name=\"edge_100_gru_layer/BatchNorm/Reshape_1\", tensor_type=DT_FLOAT, _device=\"/job:localhost/replica:0/task:0/device:CPU:0\"]()]]\n"
     ]
    }
   ],
   "source": [
    "result = pd.DataFrame(columns=[\"k\",\"epoch\",\"top\",\"recall\",\"mrr\",\"unique_lst\"])\n",
    "ch_lst = [13,13,12,12,11]\n",
    "for k in range(5):\n",
    "    tf.reset_default_graph()\n",
    "    g = tf.Graph()\n",
    "    arg = args()\n",
    "    train = data_spot[data_spot[\"k\"]!=k]\n",
    "    test = data_spot[data_spot[\"k\"]==k]\n",
    "    arg.graph = g\n",
    "    config = tf.ConfigProto()\n",
    "    config.gpu_options.allow_growth=True\n",
    "    sess = tf.Session(graph=g,config=config)\n",
    "    arg.is_training = True\n",
    "    arg.checkpoint_dir = \"weight_train_\" + str(k)\n",
    "    arg.checkpoint_dir_train = ['City_encoder_'+str(k),'new_id_0_'+str(k)] \n",
    "    arg.dropout_p_hidden = 1.0\n",
    "    arg.test_model_train = [8,ch_lst[k]]\n",
    "    \n",
    "    models = GRU4Rec(sess,arg)\n",
    "    models.fit(train)\n",
    "    \n",
    "    \n",
    "    # test#\n",
    "    arg.is_training = False\n",
    "    arg.dropout_p_hidden = 1.0\n",
    "    for i in range(0,10):\n",
    "        tf.reset_default_graph()\n",
    "        config = tf.ConfigProto()\n",
    "        config.gpu_options.allow_growth=True\n",
    "        sess = tf.Session(config=config)\n",
    "        arg.test_model = i\n",
    "        models = GRU4Rec(sess,arg)\n",
    "        l_old=evaluate_sessions_batch(models,test, session_key= 'Session_id', item_key='Spot', time_key= 'Session_num',batch_size=50)\n",
    "        #print(l_old[:2])\n",
    "        #print(len(set(np.array(l_old[2].Rec_lst.tolist()).reshape(-1))))\n",
    "        for idx,tt in enumerate([5,10,15,20],1):\n",
    "            mini=[k,i,tt,l_old[0][idx],l_old[1][idx],len(set(np.array(l_old[2].Rec_lst.apply(lambda x:x[:tt]).tolist()).reshape(-1)))]\n",
    "            result_mini = pd.Series(mini,index=[\"k\",\"epoch\",\"top\",\"recall\",\"mrr\",\"unique_lst\"])\n",
    "            result=result.append(result_mini,ignore_index=True)\n",
    "            print(mini)"
   ]
  },
  {
   "cell_type": "code",
   "execution_count": 121,
   "metadata": {
    "scrolled": true
   },
   "outputs": [],
   "source": [
    "result \n",
    "# 0번 7 epoch\n",
    "# 1번 9 epoch\n",
    "# 2번 6 epoch\n",
    "# 3번 0 epoch\n",
    "# 4번 0 epoch\n",
    "result.to_excel('rnn_model_5_fold_result_ID_City(Parellel).xlsx')"
   ]
  },
  {
   "cell_type": "code",
   "execution_count": 98,
   "metadata": {},
   "outputs": [],
   "source": [
    "# 0번 1 epoch\n",
    "# 1번 0 epoch\n",
    "# 2번 0 epoch\n",
    "# 3번 0 epoch\n",
    "# 4번 0 epoch\n",
    "result.to_excel('rnn_model_5_fold_result_ID_Tag_City(Parellel).xlsx')"
   ]
  },
  {
   "cell_type": "code",
   "execution_count": null,
   "metadata": {},
   "outputs": [],
   "source": []
  }
 ],
 "metadata": {
  "kernelspec": {
   "display_name": "Python 3",
   "language": "python",
   "name": "python3"
  },
  "language_info": {
   "codemirror_mode": {
    "name": "ipython",
    "version": 3
   },
   "file_extension": ".py",
   "mimetype": "text/x-python",
   "name": "python",
   "nbconvert_exporter": "python",
   "pygments_lexer": "ipython3",
   "version": "3.5.4"
  }
 },
 "nbformat": 4,
 "nbformat_minor": 2
}
